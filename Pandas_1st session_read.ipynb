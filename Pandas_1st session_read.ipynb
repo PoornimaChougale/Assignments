{
 "cells": [
  {
   "cell_type": "code",
   "execution_count": null,
   "id": "5367ef60",
   "metadata": {},
   "outputs": [],
   "source": [
    "PANDAS\n",
    "\"SERIES\"\n",
    "\n",
    "Pandas are fast,powerful,flexible,open source data manipulation and data analysis tool developed on top of \n",
    "python programming language\n",
    "\n",
    "3 categories\n",
    "Series  ==1 DIM\n",
    "Dataframe == 2DIM\n",
    "Panel == multiple Df's"
   ]
  },
  {
   "cell_type": "code",
   "execution_count": 21,
   "id": "4af8c3c2",
   "metadata": {},
   "outputs": [],
   "source": [
    "import pandas as pd\n",
    "import numpy as np"
   ]
  },
  {
   "cell_type": "code",
   "execution_count": 2,
   "id": "1693db20",
   "metadata": {},
   "outputs": [
    {
     "data": {
      "text/plain": [
       "'1.5.3'"
      ]
     },
     "execution_count": 2,
     "metadata": {},
     "output_type": "execute_result"
    }
   ],
   "source": [
    "pd.__version__"
   ]
  },
  {
   "cell_type": "markdown",
   "id": "f1903622",
   "metadata": {},
   "source": [
    "Check the explaination of series"
   ]
  },
  {
   "cell_type": "code",
   "execution_count": 3,
   "id": "59952c78",
   "metadata": {},
   "outputs": [],
   "source": [
    "pd.Series?"
   ]
  },
  {
   "cell_type": "markdown",
   "id": "943dbe99",
   "metadata": {},
   "source": [
    "Empty series(we have to give dtype as object)"
   ]
  },
  {
   "cell_type": "code",
   "execution_count": 4,
   "id": "0deee4b7",
   "metadata": {},
   "outputs": [
    {
     "data": {
      "text/plain": [
       "Series([], dtype: object)"
      ]
     },
     "execution_count": 4,
     "metadata": {},
     "output_type": "execute_result"
    }
   ],
   "source": [
    "pd.Series(dtype=object)"
   ]
  },
  {
   "cell_type": "markdown",
   "id": "5cc312d9",
   "metadata": {},
   "source": [
    "int->float->complex->Str/object"
   ]
  },
  {
   "cell_type": "markdown",
   "id": "4c54845f",
   "metadata": {},
   "source": [
    "Here the data is heterogeneous hence the dtype is object"
   ]
  },
  {
   "cell_type": "code",
   "execution_count": 5,
   "id": "1eb7a704",
   "metadata": {},
   "outputs": [
    {
     "data": {
      "text/plain": [
       "0          10\n",
       "1          20\n",
       "2          30\n",
       "3    poornima\n",
       "dtype: object"
      ]
     },
     "execution_count": 5,
     "metadata": {},
     "output_type": "execute_result"
    }
   ],
   "source": [
    "a=pd.Series([10,20,30,\"poornima\"])\n",
    "a"
   ]
  },
  {
   "cell_type": "markdown",
   "id": "8061551f",
   "metadata": {},
   "source": [
    "Here the float is there hence all the data converted to float"
   ]
  },
  {
   "cell_type": "code",
   "execution_count": 6,
   "id": "978c0f94",
   "metadata": {},
   "outputs": [
    {
     "data": {
      "text/plain": [
       "0    10.0\n",
       "1    20.0\n",
       "2    30.9\n",
       "dtype: float64"
      ]
     },
     "execution_count": 6,
     "metadata": {},
     "output_type": "execute_result"
    }
   ],
   "source": [
    "b=pd.Series([10,20,30.9])\n",
    "b"
   ]
  },
  {
   "cell_type": "markdown",
   "id": "97f56426",
   "metadata": {},
   "source": [
    "Here larger dtype is complex hence all the data converted to complex"
   ]
  },
  {
   "cell_type": "code",
   "execution_count": 7,
   "id": "58cb912d",
   "metadata": {},
   "outputs": [
    {
     "data": {
      "text/plain": [
       "0    10.0+0.0j\n",
       "1    20.0+0.0j\n",
       "2    0.0+30.0j\n",
       "dtype: complex128"
      ]
     },
     "execution_count": 7,
     "metadata": {},
     "output_type": "execute_result"
    }
   ],
   "source": [
    "c=pd.Series([10,20,30j])\n",
    "c"
   ]
  },
  {
   "cell_type": "markdown",
   "id": "67c08432",
   "metadata": {},
   "source": [
    "Check the datatype"
   ]
  },
  {
   "cell_type": "code",
   "execution_count": 8,
   "id": "269dfc88",
   "metadata": {},
   "outputs": [
    {
     "data": {
      "text/plain": [
       "dtype('complex128')"
      ]
     },
     "execution_count": 8,
     "metadata": {},
     "output_type": "execute_result"
    }
   ],
   "source": [
    "c.dtype"
   ]
  },
  {
   "cell_type": "markdown",
   "id": "307b9a75",
   "metadata": {},
   "source": [
    "Check the number of data"
   ]
  },
  {
   "cell_type": "code",
   "execution_count": 10,
   "id": "9f0dbb6f",
   "metadata": {},
   "outputs": [
    {
     "data": {
      "text/plain": [
       "3"
      ]
     },
     "execution_count": 10,
     "metadata": {},
     "output_type": "execute_result"
    }
   ],
   "source": [
    "c.size"
   ]
  },
  {
   "cell_type": "code",
   "execution_count": 12,
   "id": "d6901f49",
   "metadata": {},
   "outputs": [
    {
     "data": {
      "text/plain": [
       "3"
      ]
     },
     "execution_count": 12,
     "metadata": {},
     "output_type": "execute_result"
    }
   ],
   "source": [
    "len(c)"
   ]
  },
  {
   "cell_type": "markdown",
   "id": "10c03b30",
   "metadata": {},
   "source": [
    "Count also provides the number of data but ignores Nan if the series has any Nan's"
   ]
  },
  {
   "cell_type": "code",
   "execution_count": 22,
   "id": "10d4e6be",
   "metadata": {},
   "outputs": [
    {
     "data": {
      "text/plain": [
       "0    10.0\n",
       "1    20.0\n",
       "2    33.0\n",
       "3     NaN\n",
       "dtype: float64"
      ]
     },
     "execution_count": 22,
     "metadata": {},
     "output_type": "execute_result"
    }
   ],
   "source": [
    "d=pd.Series([10,20,33,np.nan])\n",
    "d"
   ]
  },
  {
   "cell_type": "code",
   "execution_count": 23,
   "id": "d3f32ae3",
   "metadata": {},
   "outputs": [
    {
     "data": {
      "text/plain": [
       "3"
      ]
     },
     "execution_count": 23,
     "metadata": {},
     "output_type": "execute_result"
    }
   ],
   "source": [
    "d.count()"
   ]
  },
  {
   "cell_type": "markdown",
   "id": "d64c6967",
   "metadata": {},
   "source": [
    "shape returns the row,col but series is 1 dim hence return only number of rows"
   ]
  },
  {
   "cell_type": "code",
   "execution_count": 24,
   "id": "021c0579",
   "metadata": {},
   "outputs": [
    {
     "data": {
      "text/plain": [
       "(4,)"
      ]
     },
     "execution_count": 24,
     "metadata": {},
     "output_type": "execute_result"
    }
   ],
   "source": [
    "d.shape"
   ]
  },
  {
   "cell_type": "markdown",
   "id": "3e4d3197",
   "metadata": {},
   "source": [
    "Returns number of dimensions"
   ]
  },
  {
   "cell_type": "code",
   "execution_count": 25,
   "id": "e076cef2",
   "metadata": {},
   "outputs": [
    {
     "data": {
      "text/plain": [
       "1"
      ]
     },
     "execution_count": 25,
     "metadata": {},
     "output_type": "execute_result"
    }
   ],
   "source": [
    "d.ndim"
   ]
  },
  {
   "cell_type": "markdown",
   "id": "13390335",
   "metadata": {},
   "source": [
    "Check the memory usage"
   ]
  },
  {
   "cell_type": "code",
   "execution_count": 26,
   "id": "2bb0a332",
   "metadata": {},
   "outputs": [
    {
     "data": {
      "text/plain": [
       "160"
      ]
     },
     "execution_count": 26,
     "metadata": {},
     "output_type": "execute_result"
    }
   ],
   "source": [
    "d.memory_usage()"
   ]
  },
  {
   "cell_type": "markdown",
   "id": "a77e4e6f",
   "metadata": {},
   "source": [
    "Fetch the values"
   ]
  },
  {
   "cell_type": "code",
   "execution_count": 28,
   "id": "69816cde",
   "metadata": {},
   "outputs": [
    {
     "data": {
      "text/plain": [
       "array([10., 20., 33., nan])"
      ]
     },
     "execution_count": 28,
     "metadata": {},
     "output_type": "execute_result"
    }
   ],
   "source": [
    "d.values"
   ]
  },
  {
   "cell_type": "markdown",
   "id": "156f25ef",
   "metadata": {},
   "source": [
    "Fetch the index"
   ]
  },
  {
   "cell_type": "code",
   "execution_count": 29,
   "id": "f9fda29f",
   "metadata": {},
   "outputs": [
    {
     "data": {
      "text/plain": [
       "RangeIndex(start=0, stop=4, step=1)"
      ]
     },
     "execution_count": 29,
     "metadata": {},
     "output_type": "execute_result"
    }
   ],
   "source": [
    "d.index"
   ]
  },
  {
   "cell_type": "markdown",
   "id": "d6974725",
   "metadata": {},
   "source": [
    "Mathematical operations"
   ]
  },
  {
   "cell_type": "code",
   "execution_count": 30,
   "id": "a03ab2c4",
   "metadata": {},
   "outputs": [
    {
     "data": {
      "text/plain": [
       "0     120\n",
       "1       1\n",
       "2    9000\n",
       "3      22\n",
       "4      18\n",
       "dtype: int64"
      ]
     },
     "execution_count": 30,
     "metadata": {},
     "output_type": "execute_result"
    }
   ],
   "source": [
    "e=pd.Series([120,1,9000,22,18])\n",
    "e"
   ]
  },
  {
   "cell_type": "markdown",
   "id": "289e829c",
   "metadata": {},
   "source": [
    "Find the maximum values"
   ]
  },
  {
   "cell_type": "code",
   "execution_count": 31,
   "id": "aa42e117",
   "metadata": {},
   "outputs": [
    {
     "data": {
      "text/plain": [
       "9000"
      ]
     },
     "execution_count": 31,
     "metadata": {},
     "output_type": "execute_result"
    }
   ],
   "source": [
    "e.max()"
   ]
  },
  {
   "cell_type": "code",
   "execution_count": 32,
   "id": "9ae83f04",
   "metadata": {},
   "outputs": [
    {
     "data": {
      "text/plain": [
       "1"
      ]
     },
     "execution_count": 32,
     "metadata": {},
     "output_type": "execute_result"
    }
   ],
   "source": [
    "e.min()"
   ]
  },
  {
   "cell_type": "markdown",
   "id": "3f6e1905",
   "metadata": {},
   "source": [
    "Cental Measures of Tendencies (Mean,Median,Mode)"
   ]
  },
  {
   "cell_type": "markdown",
   "id": "11c62eb7",
   "metadata": {},
   "source": [
    "Find the average"
   ]
  },
  {
   "cell_type": "code",
   "execution_count": 33,
   "id": "731309f6",
   "metadata": {},
   "outputs": [
    {
     "data": {
      "text/plain": [
       "1832.2"
      ]
     },
     "execution_count": 33,
     "metadata": {},
     "output_type": "execute_result"
    }
   ],
   "source": [
    "e.mean()"
   ]
  },
  {
   "cell_type": "markdown",
   "id": "0d075ba6",
   "metadata": {},
   "source": [
    "Sort the values then returns the middle element\n",
    "120\n",
    "1\n",
    "9000\n",
    "22\n",
    "18\n",
    "\n",
    "first sort the values\n",
    "1,18,22,120,9000\n",
    "\n",
    "then return the middle value\n",
    "22\n",
    "\n",
    "if the total numbers are even \n",
    "sort->add two middle number/2"
   ]
  },
  {
   "cell_type": "code",
   "execution_count": 34,
   "id": "cddc36b3",
   "metadata": {},
   "outputs": [
    {
     "data": {
      "text/plain": [
       "22.0"
      ]
     },
     "execution_count": 34,
     "metadata": {},
     "output_type": "execute_result"
    }
   ],
   "source": [
    "e.median()"
   ]
  },
  {
   "cell_type": "markdown",
   "id": "ba7bcdc3",
   "metadata": {},
   "source": [
    "Mode returns maximum repeated numbers(Ex: here 10 is most repeated number in the given series)"
   ]
  },
  {
   "cell_type": "code",
   "execution_count": 35,
   "id": "3cd72433",
   "metadata": {},
   "outputs": [
    {
     "data": {
      "text/plain": [
       "0    10\n",
       "dtype: int64"
      ]
     },
     "execution_count": 35,
     "metadata": {},
     "output_type": "execute_result"
    }
   ],
   "source": [
    "f=pd.Series([10,20,10,10,30,444])\n",
    "f\n",
    "f.mode()"
   ]
  },
  {
   "cell_type": "markdown",
   "id": "918f05a1",
   "metadata": {},
   "source": [
    "Assignment\n",
    "\n",
    "1)Create series of [40,2,4,670,,7,90,1,20]\n",
    "2)Check all the properties"
   ]
  },
  {
   "cell_type": "markdown",
   "id": "671309d8",
   "metadata": {},
   "source": [
    "Find occarance of each values"
   ]
  },
  {
   "cell_type": "code",
   "execution_count": 36,
   "id": "c98ef2df",
   "metadata": {},
   "outputs": [
    {
     "data": {
      "text/plain": [
       "120     1\n",
       "1       1\n",
       "9000    1\n",
       "22      1\n",
       "18      1\n",
       "dtype: int64"
      ]
     },
     "execution_count": 36,
     "metadata": {},
     "output_type": "execute_result"
    }
   ],
   "source": [
    "e.value_counts()"
   ]
  },
  {
   "cell_type": "markdown",
   "id": "9b9fe69c",
   "metadata": {},
   "source": [
    "Find occarance of each values using numpy(the result will be in boolean)"
   ]
  },
  {
   "cell_type": "code",
   "execution_count": 37,
   "id": "7fbcb88e",
   "metadata": {},
   "outputs": [
    {
     "data": {
      "text/plain": [
       "0    False\n",
       "1    False\n",
       "2    False\n",
       "3     True\n",
       "4    False\n",
       "dtype: bool"
      ]
     },
     "execution_count": 37,
     "metadata": {},
     "output_type": "execute_result"
    }
   ],
   "source": [
    "e == 22"
   ]
  },
  {
   "cell_type": "markdown",
   "id": "501ae657",
   "metadata": {},
   "source": [
    "convert boolean result into actual value "
   ]
  },
  {
   "cell_type": "code",
   "execution_count": 38,
   "id": "ae0ee4ed",
   "metadata": {},
   "outputs": [
    {
     "data": {
      "text/plain": [
       "3    22\n",
       "dtype: int64"
      ]
     },
     "execution_count": 38,
     "metadata": {},
     "output_type": "execute_result"
    }
   ],
   "source": [
    "e[e == 22]"
   ]
  },
  {
   "cell_type": "markdown",
   "id": "c98c7b4e",
   "metadata": {},
   "source": [
    "check the count of the occurance"
   ]
  },
  {
   "cell_type": "code",
   "execution_count": 39,
   "id": "b3bc55ab",
   "metadata": {},
   "outputs": [
    {
     "data": {
      "text/plain": [
       "1"
      ]
     },
     "execution_count": 39,
     "metadata": {},
     "output_type": "execute_result"
    }
   ],
   "source": [
    "e[e == 22].size"
   ]
  },
  {
   "cell_type": "code",
   "execution_count": null,
   "id": "6c37a3bf",
   "metadata": {},
   "outputs": [],
   "source": []
  }
 ],
 "metadata": {
  "kernelspec": {
   "display_name": "Python 3 (ipykernel)",
   "language": "python",
   "name": "python3"
  },
  "language_info": {
   "codemirror_mode": {
    "name": "ipython",
    "version": 3
   },
   "file_extension": ".py",
   "mimetype": "text/x-python",
   "name": "python",
   "nbconvert_exporter": "python",
   "pygments_lexer": "ipython3",
   "version": "3.10.9"
  }
 },
 "nbformat": 4,
 "nbformat_minor": 5
}
