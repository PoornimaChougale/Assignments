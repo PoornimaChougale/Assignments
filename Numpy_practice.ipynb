{
 "cells": [
  {
   "cell_type": "code",
   "execution_count": 1,
   "id": "f7b08827",
   "metadata": {},
   "outputs": [],
   "source": [
    "import numpy as np"
   ]
  },
  {
   "cell_type": "code",
   "execution_count": 2,
   "id": "6567a342",
   "metadata": {},
   "outputs": [
    {
     "data": {
      "text/plain": [
       "'1.23.5'"
      ]
     },
     "execution_count": 2,
     "metadata": {},
     "output_type": "execute_result"
    }
   ],
   "source": [
    "np.__version__"
   ]
  },
  {
   "cell_type": "code",
   "execution_count": 4,
   "id": "ab03fee8",
   "metadata": {},
   "outputs": [
    {
     "data": {
      "text/plain": [
       "array([10, 20, 30])"
      ]
     },
     "execution_count": 4,
     "metadata": {},
     "output_type": "execute_result"
    }
   ],
   "source": [
    "np.array([10,20,30])"
   ]
  },
  {
   "cell_type": "code",
   "execution_count": 5,
   "id": "30cdfac7",
   "metadata": {},
   "outputs": [
    {
     "data": {
      "text/plain": [
       "array(['10', '10.9', 'poornima'], dtype='<U32')"
      ]
     },
     "execution_count": 5,
     "metadata": {},
     "output_type": "execute_result"
    }
   ],
   "source": [
    "np.array([10,10.9,\"poornima\"])"
   ]
  },
  {
   "cell_type": "code",
   "execution_count": 8,
   "id": "61b82f8a",
   "metadata": {},
   "outputs": [
    {
     "data": {
      "text/plain": [
       "array([[0.91737046, 0.4106715 , 0.56796424, 0.45274162],\n",
       "       [0.03743174, 0.1628825 , 0.98485203, 0.78675974],\n",
       "       [0.13381769, 0.65398644, 0.24027367, 0.41505553],\n",
       "       [0.36228421, 0.06539547, 0.16763515, 0.97992279]])"
      ]
     },
     "execution_count": 8,
     "metadata": {},
     "output_type": "execute_result"
    }
   ],
   "source": [
    "a=np.random.rand(4,4)\n",
    "a"
   ]
  },
  {
   "cell_type": "code",
   "execution_count": 9,
   "id": "4a8fa291",
   "metadata": {},
   "outputs": [
    {
     "data": {
      "text/plain": [
       "dtype('float64')"
      ]
     },
     "execution_count": 9,
     "metadata": {},
     "output_type": "execute_result"
    }
   ],
   "source": [
    "a.dtype"
   ]
  },
  {
   "cell_type": "code",
   "execution_count": 10,
   "id": "351cdb6e",
   "metadata": {},
   "outputs": [
    {
     "data": {
      "text/plain": [
       "numpy.dtype"
      ]
     },
     "execution_count": 10,
     "metadata": {},
     "output_type": "execute_result"
    }
   ],
   "source": [
    "np.dtype"
   ]
  },
  {
   "cell_type": "code",
   "execution_count": 13,
   "id": "269c089b",
   "metadata": {},
   "outputs": [
    {
     "data": {
      "text/plain": [
       "array([0.13381769, 0.65398644, 0.24027367, 0.41505553])"
      ]
     },
     "execution_count": 13,
     "metadata": {},
     "output_type": "execute_result"
    }
   ],
   "source": [
    "a[2]"
   ]
  },
  {
   "cell_type": "code",
   "execution_count": 14,
   "id": "a70c0c10",
   "metadata": {},
   "outputs": [
    {
     "data": {
      "text/plain": [
       "array([0.36228421, 0.06539547, 0.16763515, 0.97992279])"
      ]
     },
     "execution_count": 14,
     "metadata": {},
     "output_type": "execute_result"
    }
   ],
   "source": [
    "a[-1]"
   ]
  },
  {
   "cell_type": "code",
   "execution_count": 15,
   "id": "ca4f9f11",
   "metadata": {},
   "outputs": [
    {
     "data": {
      "text/plain": [
       "array([[0.91737046, 0.4106715 , 0.56796424, 0.45274162],\n",
       "       [0.03743174, 0.1628825 , 0.98485203, 0.78675974],\n",
       "       [0.13381769, 0.65398644, 0.24027367, 0.41505553],\n",
       "       [0.36228421, 0.06539547, 0.16763515, 0.97992279]])"
      ]
     },
     "execution_count": 15,
     "metadata": {},
     "output_type": "execute_result"
    }
   ],
   "source": [
    "a"
   ]
  },
  {
   "cell_type": "code",
   "execution_count": 16,
   "id": "654a043f",
   "metadata": {},
   "outputs": [
    {
     "data": {
      "text/plain": [
       "array([[0.36228421, 0.06539547, 0.16763515, 0.97992279],\n",
       "       [0.13381769, 0.65398644, 0.24027367, 0.41505553],\n",
       "       [0.03743174, 0.1628825 , 0.98485203, 0.78675974],\n",
       "       [0.91737046, 0.4106715 , 0.56796424, 0.45274162]])"
      ]
     },
     "execution_count": 16,
     "metadata": {},
     "output_type": "execute_result"
    }
   ],
   "source": [
    "a[::-1]"
   ]
  },
  {
   "cell_type": "code",
   "execution_count": 17,
   "id": "e5f863b3",
   "metadata": {},
   "outputs": [
    {
     "data": {
      "text/plain": [
       "array([[0.45274162, 0.56796424, 0.4106715 , 0.91737046],\n",
       "       [0.78675974, 0.98485203, 0.1628825 , 0.03743174],\n",
       "       [0.41505553, 0.24027367, 0.65398644, 0.13381769],\n",
       "       [0.97992279, 0.16763515, 0.06539547, 0.36228421]])"
      ]
     },
     "execution_count": 17,
     "metadata": {},
     "output_type": "execute_result"
    }
   ],
   "source": [
    "a[::,::-1]"
   ]
  },
  {
   "cell_type": "markdown",
   "id": "17815eda",
   "metadata": {},
   "source": [
    "#fetch index 0 & 2 rows\n"
   ]
  },
  {
   "cell_type": "code",
   "execution_count": 18,
   "id": "97e73511",
   "metadata": {},
   "outputs": [
    {
     "data": {
      "text/plain": [
       "array([[0.91737046, 0.4106715 , 0.56796424, 0.45274162],\n",
       "       [0.13381769, 0.65398644, 0.24027367, 0.41505553]])"
      ]
     },
     "execution_count": 18,
     "metadata": {},
     "output_type": "execute_result"
    }
   ],
   "source": [
    "a[::2]"
   ]
  },
  {
   "cell_type": "code",
   "execution_count": 20,
   "id": "7994837e",
   "metadata": {},
   "outputs": [
    {
     "data": {
      "text/plain": [
       "array([[0.91737046, 0.4106715 , 0.56796424, 0.45274162],\n",
       "       [0.03743174, 0.1628825 , 0.98485203, 0.78675974],\n",
       "       [0.13381769, 0.65398644, 0.24027367, 0.41505553],\n",
       "       [0.36228421, 0.06539547, 0.16763515, 0.97992279]])"
      ]
     },
     "execution_count": 20,
     "metadata": {},
     "output_type": "execute_result"
    }
   ],
   "source": [
    "a"
   ]
  },
  {
   "cell_type": "markdown",
   "id": "9a43a8ab",
   "metadata": {},
   "source": [
    "#fetch 2nd & 4th row"
   ]
  },
  {
   "cell_type": "code",
   "execution_count": 19,
   "id": "0e197cfb",
   "metadata": {},
   "outputs": [
    {
     "data": {
      "text/plain": [
       "array([[0.03743174, 0.1628825 , 0.98485203, 0.78675974],\n",
       "       [0.36228421, 0.06539547, 0.16763515, 0.97992279]])"
      ]
     },
     "execution_count": 19,
     "metadata": {},
     "output_type": "execute_result"
    }
   ],
   "source": [
    "a[1::2]"
   ]
  },
  {
   "cell_type": "markdown",
   "id": "33f5baeb",
   "metadata": {},
   "source": [
    "#assignment\n",
    "#access last 2 rows\n",
    "#access middle 2 rows\n",
    "#access 1st and last row\n",
    "#access 2nd and last row\n",
    "#access last 3 rows"
   ]
  },
  {
   "cell_type": "code",
   "execution_count": 21,
   "id": "6effc5cc",
   "metadata": {},
   "outputs": [
    {
     "data": {
      "text/plain": [
       "array([[0.91737046, 0.4106715 , 0.56796424, 0.45274162],\n",
       "       [0.03743174, 0.1628825 , 0.98485203, 0.78675974],\n",
       "       [0.13381769, 0.65398644, 0.24027367, 0.41505553],\n",
       "       [0.36228421, 0.06539547, 0.16763515, 0.97992279]])"
      ]
     },
     "execution_count": 21,
     "metadata": {},
     "output_type": "execute_result"
    }
   ],
   "source": [
    "a"
   ]
  },
  {
   "cell_type": "code",
   "execution_count": 23,
   "id": "5b10d12f",
   "metadata": {},
   "outputs": [
    {
     "data": {
      "text/plain": [
       "array([[0.13381769, 0.65398644, 0.24027367, 0.41505553],\n",
       "       [0.36228421, 0.06539547, 0.16763515, 0.97992279]])"
      ]
     },
     "execution_count": 23,
     "metadata": {},
     "output_type": "execute_result"
    }
   ],
   "source": [
    "a[2:]"
   ]
  },
  {
   "cell_type": "code",
   "execution_count": 24,
   "id": "1942c236",
   "metadata": {},
   "outputs": [
    {
     "data": {
      "text/plain": [
       "array([[0.03743174, 0.1628825 , 0.98485203, 0.78675974],\n",
       "       [0.13381769, 0.65398644, 0.24027367, 0.41505553]])"
      ]
     },
     "execution_count": 24,
     "metadata": {},
     "output_type": "execute_result"
    }
   ],
   "source": [
    "a[1:3]"
   ]
  },
  {
   "cell_type": "code",
   "execution_count": 25,
   "id": "3a6c6931",
   "metadata": {},
   "outputs": [
    {
     "data": {
      "text/plain": [
       "array([[0.91737046, 0.4106715 , 0.56796424, 0.45274162],\n",
       "       [0.03743174, 0.1628825 , 0.98485203, 0.78675974],\n",
       "       [0.13381769, 0.65398644, 0.24027367, 0.41505553],\n",
       "       [0.36228421, 0.06539547, 0.16763515, 0.97992279]])"
      ]
     },
     "execution_count": 25,
     "metadata": {},
     "output_type": "execute_result"
    }
   ],
   "source": [
    "a"
   ]
  },
  {
   "cell_type": "code",
   "execution_count": 28,
   "id": "88941c0c",
   "metadata": {},
   "outputs": [
    {
     "data": {
      "text/plain": [
       "array([[0.91737046, 0.4106715 , 0.56796424, 0.45274162],\n",
       "       [0.36228421, 0.06539547, 0.16763515, 0.97992279]])"
      ]
     },
     "execution_count": 28,
     "metadata": {},
     "output_type": "execute_result"
    }
   ],
   "source": [
    "a[::3]"
   ]
  },
  {
   "cell_type": "code",
   "execution_count": 29,
   "id": "2b76bb5e",
   "metadata": {},
   "outputs": [
    {
     "data": {
      "text/plain": [
       "array([[0.03743174, 0.1628825 , 0.98485203, 0.78675974],\n",
       "       [0.36228421, 0.06539547, 0.16763515, 0.97992279]])"
      ]
     },
     "execution_count": 29,
     "metadata": {},
     "output_type": "execute_result"
    }
   ],
   "source": [
    "a[1::2]"
   ]
  },
  {
   "cell_type": "code",
   "execution_count": 30,
   "id": "954a4fae",
   "metadata": {},
   "outputs": [
    {
     "data": {
      "text/plain": [
       "array([[0.91737046, 0.4106715 , 0.56796424, 0.45274162],\n",
       "       [0.03743174, 0.1628825 , 0.98485203, 0.78675974],\n",
       "       [0.13381769, 0.65398644, 0.24027367, 0.41505553],\n",
       "       [0.36228421, 0.06539547, 0.16763515, 0.97992279]])"
      ]
     },
     "execution_count": 30,
     "metadata": {},
     "output_type": "execute_result"
    }
   ],
   "source": [
    "a"
   ]
  },
  {
   "cell_type": "code",
   "execution_count": 31,
   "id": "ec354a95",
   "metadata": {},
   "outputs": [
    {
     "data": {
      "text/plain": [
       "array([[0.03743174, 0.1628825 , 0.98485203, 0.78675974],\n",
       "       [0.13381769, 0.65398644, 0.24027367, 0.41505553],\n",
       "       [0.36228421, 0.06539547, 0.16763515, 0.97992279]])"
      ]
     },
     "execution_count": 31,
     "metadata": {},
     "output_type": "execute_result"
    }
   ],
   "source": [
    "a[1:]"
   ]
  },
  {
   "cell_type": "code",
   "execution_count": 34,
   "id": "5df863da",
   "metadata": {},
   "outputs": [
    {
     "data": {
      "text/plain": [
       "array([0.91737046, 0.03743174, 0.13381769, 0.36228421])"
      ]
     },
     "execution_count": 34,
     "metadata": {},
     "output_type": "execute_result"
    }
   ],
   "source": [
    "a[:,0]"
   ]
  },
  {
   "cell_type": "markdown",
   "id": "7b849ab5",
   "metadata": {},
   "source": [
    "#assignment\n",
    "#access corner elements\n",
    "#access diagonal elements\n",
    "#access middle 2 columns and all rows\n",
    "#access last 2 rows and its first 2 values from each row\n",
    "#reverse rows & columns"
   ]
  },
  {
   "cell_type": "code",
   "execution_count": 35,
   "id": "cffce38e",
   "metadata": {},
   "outputs": [
    {
     "data": {
      "text/plain": [
       "array([[0.91737046, 0.4106715 , 0.56796424, 0.45274162],\n",
       "       [0.03743174, 0.1628825 , 0.98485203, 0.78675974],\n",
       "       [0.13381769, 0.65398644, 0.24027367, 0.41505553],\n",
       "       [0.36228421, 0.06539547, 0.16763515, 0.97992279]])"
      ]
     },
     "execution_count": 35,
     "metadata": {},
     "output_type": "execute_result"
    }
   ],
   "source": [
    "a"
   ]
  },
  {
   "cell_type": "code",
   "execution_count": 37,
   "id": "ef3cdd06",
   "metadata": {},
   "outputs": [
    {
     "data": {
      "text/plain": [
       "array([[0.91737046, 0.45274162],\n",
       "       [0.36228421, 0.97992279]])"
      ]
     },
     "execution_count": 37,
     "metadata": {},
     "output_type": "execute_result"
    }
   ],
   "source": [
    "a[::3,::3]"
   ]
  },
  {
   "cell_type": "code",
   "execution_count": 38,
   "id": "2d96ca63",
   "metadata": {},
   "outputs": [
    {
     "data": {
      "text/plain": [
       "array([0.91737046, 0.1628825 , 0.24027367, 0.97992279])"
      ]
     },
     "execution_count": 38,
     "metadata": {},
     "output_type": "execute_result"
    }
   ],
   "source": [
    "a.diagonal()"
   ]
  },
  {
   "cell_type": "code",
   "execution_count": 39,
   "id": "c375f4c8",
   "metadata": {},
   "outputs": [
    {
     "data": {
      "text/plain": [
       "array([[0.4106715 , 0.56796424],\n",
       "       [0.1628825 , 0.98485203],\n",
       "       [0.65398644, 0.24027367],\n",
       "       [0.06539547, 0.16763515]])"
      ]
     },
     "execution_count": 39,
     "metadata": {},
     "output_type": "execute_result"
    }
   ],
   "source": [
    "a[:,1:3]"
   ]
  },
  {
   "cell_type": "code",
   "execution_count": 41,
   "id": "c6b1cec8",
   "metadata": {},
   "outputs": [
    {
     "data": {
      "text/plain": [
       "array([[0.13381769, 0.65398644],\n",
       "       [0.36228421, 0.06539547]])"
      ]
     },
     "execution_count": 41,
     "metadata": {},
     "output_type": "execute_result"
    }
   ],
   "source": [
    "a[2:,:2]"
   ]
  },
  {
   "cell_type": "code",
   "execution_count": 42,
   "id": "17e3e0b4",
   "metadata": {},
   "outputs": [
    {
     "data": {
      "text/plain": [
       "array([[0.97992279, 0.16763515, 0.06539547, 0.36228421],\n",
       "       [0.41505553, 0.24027367, 0.65398644, 0.13381769],\n",
       "       [0.78675974, 0.98485203, 0.1628825 , 0.03743174],\n",
       "       [0.45274162, 0.56796424, 0.4106715 , 0.91737046]])"
      ]
     },
     "execution_count": 42,
     "metadata": {},
     "output_type": "execute_result"
    }
   ],
   "source": [
    "a[::-1,::-1]"
   ]
  },
  {
   "cell_type": "code",
   "execution_count": 43,
   "id": "44eac85c",
   "metadata": {},
   "outputs": [
    {
     "data": {
      "text/plain": [
       "(4, 4)"
      ]
     },
     "execution_count": 43,
     "metadata": {},
     "output_type": "execute_result"
    }
   ],
   "source": [
    "a.shape"
   ]
  },
  {
   "cell_type": "code",
   "execution_count": 44,
   "id": "4e1fa2b2",
   "metadata": {},
   "outputs": [
    {
     "data": {
      "text/plain": [
       "2"
      ]
     },
     "execution_count": 44,
     "metadata": {},
     "output_type": "execute_result"
    }
   ],
   "source": [
    "a.ndim"
   ]
  },
  {
   "cell_type": "markdown",
   "id": "4a4ff57d",
   "metadata": {},
   "source": [
    "Convert any dim to 1 dim(temporarily)"
   ]
  },
  {
   "cell_type": "code",
   "execution_count": 45,
   "id": "05ea175d",
   "metadata": {},
   "outputs": [
    {
     "data": {
      "text/plain": [
       "array([0.91737046, 0.4106715 , 0.56796424, 0.45274162, 0.03743174,\n",
       "       0.1628825 , 0.98485203, 0.78675974, 0.13381769, 0.65398644,\n",
       "       0.24027367, 0.41505553, 0.36228421, 0.06539547, 0.16763515,\n",
       "       0.97992279])"
      ]
     },
     "execution_count": 45,
     "metadata": {},
     "output_type": "execute_result"
    }
   ],
   "source": [
    "a.ravel()"
   ]
  },
  {
   "cell_type": "code",
   "execution_count": 47,
   "id": "d3efc48f",
   "metadata": {},
   "outputs": [
    {
     "data": {
      "text/plain": [
       "array([[[0.91737046, 0.4106715 , 0.56796424, 0.45274162],\n",
       "        [0.03743174, 0.1628825 , 0.98485203, 0.78675974]],\n",
       "\n",
       "       [[0.13381769, 0.65398644, 0.24027367, 0.41505553],\n",
       "        [0.36228421, 0.06539547, 0.16763515, 0.97992279]]])"
      ]
     },
     "execution_count": 47,
     "metadata": {},
     "output_type": "execute_result"
    }
   ],
   "source": [
    "a.resize(2,2,4)\n",
    "a"
   ]
  },
  {
   "cell_type": "code",
   "execution_count": 48,
   "id": "6cbfa949",
   "metadata": {},
   "outputs": [
    {
     "data": {
      "text/plain": [
       "array([[0.91737046, 0.4106715 , 0.56796424, 0.45274162],\n",
       "       [0.03743174, 0.1628825 , 0.98485203, 0.78675974],\n",
       "       [0.13381769, 0.65398644, 0.24027367, 0.41505553],\n",
       "       [0.36228421, 0.06539547, 0.16763515, 0.97992279]])"
      ]
     },
     "execution_count": 48,
     "metadata": {},
     "output_type": "execute_result"
    }
   ],
   "source": [
    "a.reshape(4,4)"
   ]
  },
  {
   "cell_type": "code",
   "execution_count": 50,
   "id": "5ce0be06",
   "metadata": {},
   "outputs": [
    {
     "data": {
      "text/plain": [
       "array([[[0.91737046, 0.13381769],\n",
       "        [0.03743174, 0.36228421]],\n",
       "\n",
       "       [[0.4106715 , 0.65398644],\n",
       "        [0.1628825 , 0.06539547]],\n",
       "\n",
       "       [[0.56796424, 0.24027367],\n",
       "        [0.98485203, 0.16763515]],\n",
       "\n",
       "       [[0.45274162, 0.41505553],\n",
       "        [0.78675974, 0.97992279]]])"
      ]
     },
     "execution_count": 50,
     "metadata": {},
     "output_type": "execute_result"
    }
   ],
   "source": [
    "a.T"
   ]
  },
  {
   "cell_type": "code",
   "execution_count": 51,
   "id": "54e07718",
   "metadata": {},
   "outputs": [
    {
     "data": {
      "text/plain": [
       "array([[[0.91737046, 0.13381769],\n",
       "        [0.03743174, 0.36228421]],\n",
       "\n",
       "       [[0.4106715 , 0.65398644],\n",
       "        [0.1628825 , 0.06539547]],\n",
       "\n",
       "       [[0.56796424, 0.24027367],\n",
       "        [0.98485203, 0.16763515]],\n",
       "\n",
       "       [[0.45274162, 0.41505553],\n",
       "        [0.78675974, 0.97992279]]])"
      ]
     },
     "execution_count": 51,
     "metadata": {},
     "output_type": "execute_result"
    }
   ],
   "source": [
    "np.transpose(a)"
   ]
  },
  {
   "cell_type": "code",
   "execution_count": null,
   "id": "89229612",
   "metadata": {},
   "outputs": [],
   "source": []
  }
 ],
 "metadata": {
  "kernelspec": {
   "display_name": "Python 3 (ipykernel)",
   "language": "python",
   "name": "python3"
  },
  "language_info": {
   "codemirror_mode": {
    "name": "ipython",
    "version": 3
   },
   "file_extension": ".py",
   "mimetype": "text/x-python",
   "name": "python",
   "nbconvert_exporter": "python",
   "pygments_lexer": "ipython3",
   "version": "3.10.9"
  }
 },
 "nbformat": 4,
 "nbformat_minor": 5
}
