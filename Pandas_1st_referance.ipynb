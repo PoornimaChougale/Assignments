{
 "cells": [
  {
   "cell_type": "code",
   "execution_count": 1,
   "id": "34bede71",
   "metadata": {},
   "outputs": [],
   "source": [
    "import numpy as np"
   ]
  },
  {
   "cell_type": "code",
   "execution_count": 3,
   "id": "ea863177",
   "metadata": {},
   "outputs": [
    {
     "data": {
      "text/plain": [
       "array([[0.02880628, 0.96989636, 0.92149574, 0.65614976],\n",
       "       [0.3478205 , 0.70679814, 0.50707976, 0.99983467],\n",
       "       [0.09100749, 0.53702105, 0.77016335, 0.46543606],\n",
       "       [0.82553335, 0.52674372, 0.73736596, 0.3379705 ]])"
      ]
     },
     "execution_count": 3,
     "metadata": {},
     "output_type": "execute_result"
    }
   ],
   "source": [
    "a=np.random.rand(4,4)\n",
    "a"
   ]
  },
  {
   "cell_type": "code",
   "execution_count": 4,
   "id": "25baf391",
   "metadata": {},
   "outputs": [
    {
     "data": {
      "text/plain": [
       "array([[0.02880628, 0.96989636, 0.92149574, 0.65614976],\n",
       "       [0.3478205 , 0.70679814, 0.50707976, 0.99983467],\n",
       "       [0.09100749, 0.53702105, 0.77016335, 0.46543606],\n",
       "       [0.82553335, 0.52674372, 0.73736596, 0.3379705 ]])"
      ]
     },
     "execution_count": 4,
     "metadata": {},
     "output_type": "execute_result"
    }
   ],
   "source": [
    "a[:]"
   ]
  },
  {
   "cell_type": "code",
   "execution_count": 5,
   "id": "0b14c40b",
   "metadata": {},
   "outputs": [
    {
     "data": {
      "text/plain": [
       "array([0.02880628, 0.96989636, 0.92149574, 0.65614976])"
      ]
     },
     "execution_count": 5,
     "metadata": {},
     "output_type": "execute_result"
    }
   ],
   "source": [
    "a[0]"
   ]
  },
  {
   "cell_type": "code",
   "execution_count": 6,
   "id": "dae17094",
   "metadata": {},
   "outputs": [
    {
     "data": {
      "text/plain": [
       "array([[0.82553335, 0.52674372, 0.73736596, 0.3379705 ],\n",
       "       [0.09100749, 0.53702105, 0.77016335, 0.46543606],\n",
       "       [0.3478205 , 0.70679814, 0.50707976, 0.99983467],\n",
       "       [0.02880628, 0.96989636, 0.92149574, 0.65614976]])"
      ]
     },
     "execution_count": 6,
     "metadata": {},
     "output_type": "execute_result"
    }
   ],
   "source": [
    "a[::-1]"
   ]
  },
  {
   "cell_type": "code",
   "execution_count": 8,
   "id": "463d96e9",
   "metadata": {},
   "outputs": [
    {
     "data": {
      "text/plain": [
       "array([[0.65614976, 0.92149574, 0.96989636, 0.02880628],\n",
       "       [0.99983467, 0.50707976, 0.70679814, 0.3478205 ],\n",
       "       [0.46543606, 0.77016335, 0.53702105, 0.09100749],\n",
       "       [0.3379705 , 0.73736596, 0.52674372, 0.82553335]])"
      ]
     },
     "execution_count": 8,
     "metadata": {},
     "output_type": "execute_result"
    }
   ],
   "source": [
    "a[:,: : -1]"
   ]
  },
  {
   "cell_type": "markdown",
   "id": "f222a0ab",
   "metadata": {},
   "source": [
    "#fetch index 0 & 2 rows"
   ]
  },
  {
   "cell_type": "code",
   "execution_count": 10,
   "id": "7bc38e1e",
   "metadata": {},
   "outputs": [
    {
     "data": {
      "text/plain": [
       "array([[0.02880628, 0.96989636, 0.92149574, 0.65614976],\n",
       "       [0.3478205 , 0.70679814, 0.50707976, 0.99983467],\n",
       "       [0.09100749, 0.53702105, 0.77016335, 0.46543606],\n",
       "       [0.82553335, 0.52674372, 0.73736596, 0.3379705 ]])"
      ]
     },
     "execution_count": 10,
     "metadata": {},
     "output_type": "execute_result"
    }
   ],
   "source": [
    "a"
   ]
  },
  {
   "cell_type": "code",
   "execution_count": 9,
   "id": "27a5cb17",
   "metadata": {},
   "outputs": [
    {
     "data": {
      "text/plain": [
       "array([[0.02880628, 0.96989636, 0.92149574, 0.65614976],\n",
       "       [0.09100749, 0.53702105, 0.77016335, 0.46543606]])"
      ]
     },
     "execution_count": 9,
     "metadata": {},
     "output_type": "execute_result"
    }
   ],
   "source": [
    "a[::2]"
   ]
  },
  {
   "cell_type": "markdown",
   "id": "9099dd4a",
   "metadata": {},
   "source": [
    "#fetch 2nd & 4th row"
   ]
  },
  {
   "cell_type": "code",
   "execution_count": 12,
   "id": "fecd7b02",
   "metadata": {},
   "outputs": [
    {
     "data": {
      "text/plain": [
       "array([[0.3478205 , 0.70679814, 0.50707976, 0.99983467],\n",
       "       [0.82553335, 0.52674372, 0.73736596, 0.3379705 ]])"
      ]
     },
     "execution_count": 12,
     "metadata": {},
     "output_type": "execute_result"
    }
   ],
   "source": [
    "a[1::2]"
   ]
  },
  {
   "cell_type": "markdown",
   "id": "5f2718a2",
   "metadata": {},
   "source": [
    "#assignment\n",
    "#access last 2 rows\n",
    "#access middle 2 rows\n",
    "#access 1st and last row\n",
    "#access 2nd and last row\n",
    "#access last 3 rows"
   ]
  },
  {
   "cell_type": "code",
   "execution_count": 13,
   "id": "bbf054a0",
   "metadata": {},
   "outputs": [
    {
     "data": {
      "text/plain": [
       "array([[0.09100749, 0.53702105, 0.77016335, 0.46543606],\n",
       "       [0.82553335, 0.52674372, 0.73736596, 0.3379705 ]])"
      ]
     },
     "execution_count": 13,
     "metadata": {},
     "output_type": "execute_result"
    }
   ],
   "source": [
    "a[2::]"
   ]
  },
  {
   "cell_type": "code",
   "execution_count": 15,
   "id": "d68e4abc",
   "metadata": {},
   "outputs": [
    {
     "data": {
      "text/plain": [
       "array([[0.3478205 , 0.70679814, 0.50707976, 0.99983467],\n",
       "       [0.09100749, 0.53702105, 0.77016335, 0.46543606]])"
      ]
     },
     "execution_count": 15,
     "metadata": {},
     "output_type": "execute_result"
    }
   ],
   "source": [
    "a[1:3:]"
   ]
  },
  {
   "cell_type": "code",
   "execution_count": 17,
   "id": "a1a9b05d",
   "metadata": {},
   "outputs": [
    {
     "data": {
      "text/plain": [
       "array([1, 2, 3])"
      ]
     },
     "execution_count": 17,
     "metadata": {},
     "output_type": "execute_result"
    }
   ],
   "source": [
    "np.array([1,2,3])"
   ]
  },
  {
   "cell_type": "code",
   "execution_count": 18,
   "id": "c3b77897",
   "metadata": {},
   "outputs": [],
   "source": [
    "import pandas as pd"
   ]
  },
  {
   "cell_type": "code",
   "execution_count": 21,
   "id": "003a338e",
   "metadata": {},
   "outputs": [
    {
     "data": {
      "text/plain": [
       "Series([], dtype: object)"
      ]
     },
     "execution_count": 21,
     "metadata": {},
     "output_type": "execute_result"
    }
   ],
   "source": [
    "pd.Series(dtype=object)"
   ]
  },
  {
   "cell_type": "code",
   "execution_count": 22,
   "id": "fb611f9e",
   "metadata": {},
   "outputs": [
    {
     "data": {
      "text/plain": [
       "0          10\n",
       "1    poornima\n",
       "2        10.9\n",
       "dtype: object"
      ]
     },
     "execution_count": 22,
     "metadata": {},
     "output_type": "execute_result"
    }
   ],
   "source": [
    "k=[10,'poornima',10.9]\n",
    "pd.Series(k)"
   ]
  },
  {
   "cell_type": "code",
   "execution_count": null,
   "id": "930f0c88",
   "metadata": {},
   "outputs": [],
   "source": []
  },
  {
   "cell_type": "code",
   "execution_count": 19,
   "id": "a7313582",
   "metadata": {},
   "outputs": [
    {
     "data": {
      "text/plain": [
       "'1.5.3'"
      ]
     },
     "execution_count": 19,
     "metadata": {},
     "output_type": "execute_result"
    }
   ],
   "source": [
    "pd.__version__"
   ]
  },
  {
   "cell_type": "code",
   "execution_count": 20,
   "id": "2be68300",
   "metadata": {},
   "outputs": [],
   "source": [
    "pd.Series?"
   ]
  },
  {
   "cell_type": "code",
   "execution_count": 23,
   "id": "fc3aa7e0",
   "metadata": {},
   "outputs": [
    {
     "data": {
      "text/plain": [
       "0    10.0\n",
       "1    20.0\n",
       "2    30.8\n",
       "dtype: float64"
      ]
     },
     "execution_count": 23,
     "metadata": {},
     "output_type": "execute_result"
    }
   ],
   "source": [
    "pd.Series([10,20,30.8])"
   ]
  },
  {
   "cell_type": "code",
   "execution_count": 24,
   "id": "449649ec",
   "metadata": {},
   "outputs": [
    {
     "data": {
      "text/plain": [
       "0    10.0+0.0j\n",
       "1    30.2+0.0j\n",
       "2    0.0+10.0j\n",
       "dtype: complex128"
      ]
     },
     "execution_count": 24,
     "metadata": {},
     "output_type": "execute_result"
    }
   ],
   "source": [
    "pd.Series([10,30.2,10j])"
   ]
  },
  {
   "cell_type": "code",
   "execution_count": 27,
   "id": "c388a085",
   "metadata": {},
   "outputs": [
    {
     "data": {
      "text/plain": [
       "0    10\n",
       "1    20\n",
       "2    30\n",
       "dtype: int64"
      ]
     },
     "execution_count": 27,
     "metadata": {},
     "output_type": "execute_result"
    }
   ],
   "source": [
    "a=pd.Series([10,20,30])\n",
    "a"
   ]
  },
  {
   "cell_type": "code",
   "execution_count": 28,
   "id": "8b8df7c5",
   "metadata": {},
   "outputs": [
    {
     "data": {
      "text/plain": [
       "3"
      ]
     },
     "execution_count": 28,
     "metadata": {},
     "output_type": "execute_result"
    }
   ],
   "source": [
    "a.size"
   ]
  },
  {
   "cell_type": "code",
   "execution_count": 29,
   "id": "d91db21a",
   "metadata": {},
   "outputs": [
    {
     "data": {
      "text/plain": [
       "3"
      ]
     },
     "execution_count": 29,
     "metadata": {},
     "output_type": "execute_result"
    }
   ],
   "source": [
    "len(a)"
   ]
  },
  {
   "cell_type": "code",
   "execution_count": 31,
   "id": "8c875576",
   "metadata": {},
   "outputs": [
    {
     "data": {
      "text/plain": [
       "3"
      ]
     },
     "execution_count": 31,
     "metadata": {},
     "output_type": "execute_result"
    }
   ],
   "source": [
    "a.count()"
   ]
  },
  {
   "cell_type": "markdown",
   "id": "0dad4d9b",
   "metadata": {},
   "source": [
    "Nan has been ignored(hence the count =2)"
   ]
  },
  {
   "cell_type": "code",
   "execution_count": 36,
   "id": "9d1b8954",
   "metadata": {},
   "outputs": [
    {
     "data": {
      "text/plain": [
       "0    10.0\n",
       "1    20.0\n",
       "2     NaN\n",
       "dtype: float64"
      ]
     },
     "execution_count": 36,
     "metadata": {},
     "output_type": "execute_result"
    }
   ],
   "source": [
    "d=pd.Series([10,20,np.nan])\n",
    "d"
   ]
  },
  {
   "cell_type": "code",
   "execution_count": 37,
   "id": "24243805",
   "metadata": {},
   "outputs": [
    {
     "data": {
      "text/plain": [
       "2"
      ]
     },
     "execution_count": 37,
     "metadata": {},
     "output_type": "execute_result"
    }
   ],
   "source": [
    "d.count()"
   ]
  },
  {
   "cell_type": "markdown",
   "id": "ad0bd260",
   "metadata": {},
   "source": [
    "shape returns the row,col but series is 1 dim hence return only number of rows"
   ]
  },
  {
   "cell_type": "code",
   "execution_count": 38,
   "id": "099a2a48",
   "metadata": {},
   "outputs": [
    {
     "data": {
      "text/plain": [
       "(3,)"
      ]
     },
     "execution_count": 38,
     "metadata": {},
     "output_type": "execute_result"
    }
   ],
   "source": [
    "d.shape"
   ]
  },
  {
   "cell_type": "markdown",
   "id": "60bc0cde",
   "metadata": {},
   "source": [
    "Returns number of dimensions"
   ]
  },
  {
   "cell_type": "code",
   "execution_count": 39,
   "id": "b3b472a7",
   "metadata": {},
   "outputs": [
    {
     "data": {
      "text/plain": [
       "1"
      ]
     },
     "execution_count": 39,
     "metadata": {},
     "output_type": "execute_result"
    }
   ],
   "source": [
    "d.ndim"
   ]
  },
  {
   "cell_type": "markdown",
   "id": "d9c18cf7",
   "metadata": {},
   "source": [
    "Check the memory usage"
   ]
  },
  {
   "cell_type": "code",
   "execution_count": 41,
   "id": "148c8db1",
   "metadata": {},
   "outputs": [
    {
     "data": {
      "text/plain": [
       "152"
      ]
     },
     "execution_count": 41,
     "metadata": {},
     "output_type": "execute_result"
    }
   ],
   "source": [
    "d.memory_usage()"
   ]
  },
  {
   "cell_type": "markdown",
   "id": "142ef2f0",
   "metadata": {},
   "source": [
    "Fetch the values"
   ]
  },
  {
   "cell_type": "code",
   "execution_count": 42,
   "id": "d922d50c",
   "metadata": {},
   "outputs": [
    {
     "data": {
      "text/plain": [
       "array([10., 20., nan])"
      ]
     },
     "execution_count": 42,
     "metadata": {},
     "output_type": "execute_result"
    }
   ],
   "source": [
    "d.values"
   ]
  },
  {
   "cell_type": "markdown",
   "id": "4ce703a0",
   "metadata": {},
   "source": [
    "Fetch the index"
   ]
  },
  {
   "cell_type": "code",
   "execution_count": 43,
   "id": "9d3b0cf5",
   "metadata": {},
   "outputs": [
    {
     "data": {
      "text/plain": [
       "RangeIndex(start=0, stop=3, step=1)"
      ]
     },
     "execution_count": 43,
     "metadata": {},
     "output_type": "execute_result"
    }
   ],
   "source": [
    "d.index"
   ]
  },
  {
   "cell_type": "markdown",
   "id": "f213b6cb",
   "metadata": {},
   "source": [
    "Mathematical operations"
   ]
  },
  {
   "cell_type": "code",
   "execution_count": 44,
   "id": "271d1a37",
   "metadata": {},
   "outputs": [
    {
     "data": {
      "text/plain": [
       "0     120\n",
       "1       1\n",
       "2    9000\n",
       "3      22\n",
       "4      18\n",
       "dtype: int64"
      ]
     },
     "execution_count": 44,
     "metadata": {},
     "output_type": "execute_result"
    }
   ],
   "source": [
    "e=pd.Series([120,1,9000,22,18])\n",
    "e"
   ]
  },
  {
   "cell_type": "markdown",
   "id": "dbfa13e1",
   "metadata": {},
   "source": [
    "Find the maximum values"
   ]
  },
  {
   "cell_type": "code",
   "execution_count": 46,
   "id": "c40c57fb",
   "metadata": {},
   "outputs": [
    {
     "data": {
      "text/plain": [
       "9000"
      ]
     },
     "execution_count": 46,
     "metadata": {},
     "output_type": "execute_result"
    }
   ],
   "source": [
    "e.max()"
   ]
  },
  {
   "cell_type": "markdown",
   "id": "869deb4c",
   "metadata": {},
   "source": [
    "Find Min value"
   ]
  },
  {
   "cell_type": "code",
   "execution_count": 47,
   "id": "3fae9cf1",
   "metadata": {},
   "outputs": [
    {
     "data": {
      "text/plain": [
       "1"
      ]
     },
     "execution_count": 47,
     "metadata": {},
     "output_type": "execute_result"
    }
   ],
   "source": [
    "e.min()"
   ]
  },
  {
   "cell_type": "markdown",
   "id": "aa886093",
   "metadata": {},
   "source": [
    "Cental Measures of Tendencies (Mean,Median,Mode)"
   ]
  },
  {
   "cell_type": "markdown",
   "id": "04b3b178",
   "metadata": {},
   "source": [
    "Find the average"
   ]
  },
  {
   "cell_type": "code",
   "execution_count": 48,
   "id": "be4d323b",
   "metadata": {},
   "outputs": [
    {
     "data": {
      "text/plain": [
       "1832.2"
      ]
     },
     "execution_count": 48,
     "metadata": {},
     "output_type": "execute_result"
    }
   ],
   "source": [
    "e.mean()"
   ]
  },
  {
   "cell_type": "markdown",
   "id": "9b3d5610",
   "metadata": {},
   "source": [
    "Sort the values then returns the middle element\n",
    "120\n",
    "1\n",
    "9000\n",
    "22\n",
    "18\n",
    "\n",
    "first sort the values\n",
    "1,18,22,120,9000\n",
    "\n",
    "then return the middle value\n",
    "22\n",
    "\n",
    "if the total numbers are even \n",
    "sort->add two middle number/2"
   ]
  },
  {
   "cell_type": "code",
   "execution_count": 49,
   "id": "cd8b3ea9",
   "metadata": {},
   "outputs": [
    {
     "data": {
      "text/plain": [
       "22.0"
      ]
     },
     "execution_count": 49,
     "metadata": {},
     "output_type": "execute_result"
    }
   ],
   "source": [
    "e.median()"
   ]
  },
  {
   "cell_type": "markdown",
   "id": "f1829dce",
   "metadata": {},
   "source": [
    "Mode returns maximum repeated numbers(Ex: here 10 is most repeated number in the given series)"
   ]
  },
  {
   "cell_type": "code",
   "execution_count": 55,
   "id": "ecbb34d6",
   "metadata": {},
   "outputs": [
    {
     "data": {
      "text/plain": [
       "0    10\n",
       "dtype: int64"
      ]
     },
     "execution_count": 55,
     "metadata": {},
     "output_type": "execute_result"
    }
   ],
   "source": [
    "f=pd.Series([10,20,10,10,30,444])\n",
    "f\n",
    "f.mode()"
   ]
  },
  {
   "cell_type": "markdown",
   "id": "762ed656",
   "metadata": {},
   "source": [
    "Assignment\n",
    "\n",
    "1)Create series of [40,2,4,670,,7,90,1,20]\n",
    "2)Check all the properties"
   ]
  },
  {
   "cell_type": "markdown",
   "id": "38410815",
   "metadata": {},
   "source": [
    "Find occarance of each values"
   ]
  },
  {
   "cell_type": "code",
   "execution_count": 57,
   "id": "1c0ac6c6",
   "metadata": {},
   "outputs": [
    {
     "data": {
      "text/plain": [
       "120     1\n",
       "1       1\n",
       "9000    1\n",
       "22      1\n",
       "18      1\n",
       "dtype: int64"
      ]
     },
     "execution_count": 57,
     "metadata": {},
     "output_type": "execute_result"
    }
   ],
   "source": [
    "e.value_counts()"
   ]
  },
  {
   "cell_type": "markdown",
   "id": "8ec714fa",
   "metadata": {},
   "source": [
    "Find occarance of each values using numpy(the result will be in boolean)"
   ]
  },
  {
   "cell_type": "code",
   "execution_count": 62,
   "id": "6894d055",
   "metadata": {},
   "outputs": [
    {
     "data": {
      "text/plain": [
       "0    False\n",
       "1    False\n",
       "2    False\n",
       "3     True\n",
       "4    False\n",
       "dtype: bool"
      ]
     },
     "execution_count": 62,
     "metadata": {},
     "output_type": "execute_result"
    }
   ],
   "source": [
    "e == 22"
   ]
  },
  {
   "cell_type": "markdown",
   "id": "d1c7c7b5",
   "metadata": {},
   "source": [
    "convert boolean result into actual value "
   ]
  },
  {
   "cell_type": "code",
   "execution_count": 63,
   "id": "5a116654",
   "metadata": {},
   "outputs": [
    {
     "data": {
      "text/plain": [
       "3    22\n",
       "dtype: int64"
      ]
     },
     "execution_count": 63,
     "metadata": {},
     "output_type": "execute_result"
    }
   ],
   "source": [
    "e[e == 22]"
   ]
  },
  {
   "cell_type": "markdown",
   "id": "44d39afd",
   "metadata": {},
   "source": [
    "check the count of the occurance"
   ]
  },
  {
   "cell_type": "code",
   "execution_count": 64,
   "id": "a5f0a727",
   "metadata": {},
   "outputs": [
    {
     "data": {
      "text/plain": [
       "1"
      ]
     },
     "execution_count": 64,
     "metadata": {},
     "output_type": "execute_result"
    }
   ],
   "source": [
    "e[e == 22].size"
   ]
  },
  {
   "cell_type": "code",
   "execution_count": null,
   "id": "6fdef50c",
   "metadata": {},
   "outputs": [],
   "source": []
  }
 ],
 "metadata": {
  "kernelspec": {
   "display_name": "Python 3 (ipykernel)",
   "language": "python",
   "name": "python3"
  },
  "language_info": {
   "codemirror_mode": {
    "name": "ipython",
    "version": 3
   },
   "file_extension": ".py",
   "mimetype": "text/x-python",
   "name": "python",
   "nbconvert_exporter": "python",
   "pygments_lexer": "ipython3",
   "version": "3.10.9"
  }
 },
 "nbformat": 4,
 "nbformat_minor": 5
}
